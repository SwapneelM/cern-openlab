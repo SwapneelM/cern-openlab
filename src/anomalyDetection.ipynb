{
 "cells": [
  {
   "cell_type": "markdown",
   "metadata": {
    "collapsed": true
   },
   "source": [
    "# Anomaly Detection Models"
   ]
  },
  {
   "cell_type": "code",
   "execution_count": 2,
   "metadata": {
    "collapsed": true
   },
   "outputs": [],
   "source": [
    "%matplotlib inline\n",
    "import json, csv, sys, datetime\n",
    "import matplotlib.pyplot as plt\n",
    "import pandas as pd\n",
    "import numpy as np\n",
    "from sklearn.decomposition import TruncatedSVD, PCA\n",
    "from sklearn import preprocessing\n",
    "from sklearn.feature_extraction import DictVectorizer"
   ]
  },
  {
   "cell_type": "markdown",
   "metadata": {},
   "source": [
    "This function extracts the features specified in the array from the json file provided to it and stores it in a csv file at the location provided to it. \n",
    "\n",
    "Edit the file locations (source json; destination csv) and run the code to generate the requisite datasets."
   ]
  },
  {
   "cell_type": "code",
   "execution_count": 3,
   "metadata": {
    "scrolled": true
   },
   "outputs": [],
   "source": [
    "\n",
    "with open('../dataset/sample_first_50000.json', 'r') as file:\n",
    "\ti = 0\n",
    "\tj = 0\n",
    "\t# TODO: change list-based stuff to dict\n",
    "\tdata = {}\n",
    "\tipList = []\n",
    "\t# iterate over each logged line\n",
    "\tfor line in file:\n",
    "\t\tnewItem = {}\n",
    "\t\ttry:\n",
    "\t\t\tjsonData = json.loads(line)\n",
    "\t\texcept:\n",
    "\t\t\tprint \"\\nLine {0} is not in JSON format\".format(i)\n",
    "\t\t\ti += 1\n",
    "\t\t\tj += 1\n",
    "\t\t\tcontinue\n",
    "\n",
    "\t\tif 'data' in jsonData:\n",
    "\t\t\ttimestamp = str(jsonData['data']['event_timestamp'])\n",
    "\t\t\thour_of_the_day = (float(timestamp[11:13]) + float(timestamp[14:16])/60 + float(timestamp[17:19])/3600)\n",
    "\t\t\t# 0 - Monday; 6 - Sunday\n",
    "\t\t\tday_of_the_week = datetime.datetime(int(timestamp[:4]), \\\n",
    "\t\t\t\tint(timestamp[5:7]), int(timestamp[8:10]), int(timestamp[11:13]), \\\n",
    "\t\t\t\tint(timestamp[14:16]), int(timestamp[17:19])).weekday()\n",
    "\t\t\tnewItem[\"hour_of_the_day\"] = hour_of_the_day\n",
    "\t\t\tnewItem[\"day_of_the_week\"] = day_of_the_week\n",
    "\t\t\n",
    "\t\t\tfeaturesFromData = [\"client_user\", \"client_host\", \"client_ip\", \"client_program\", \"CONNECT_DATA_INSTANCE_NAME\", \"service_name\"]\n",
    "\t\t\tfor feature in featuresFromData:\n",
    "\t\t\t\tif feature in jsonData['data']:\n",
    "\t\t\t\t\tnewItem[feature] = str(jsonData['data'][feature])\n",
    "\t\t\t\telse:\n",
    "\t\t\t\t\tnewItem[feature] = \"\"\n",
    "\n",
    "\t\tif 'metadata' in jsonData:\n",
    "\t\t\tfeaturesFromMetadata = [\"oracle_sid\", \"hostname\"]\n",
    "\t\t\tfor feature in featuresFromMetadata:\n",
    "\t\t\t\tif feature in jsonData['metadata']:\n",
    "\t\t\t\t\tnewItem[feature] = str(jsonData['metadata'][feature])\n",
    "\t\t\t\telse:\n",
    "\t\t\t\t\tnewItem[feature] = \"\"\n",
    "\n",
    "\t\t# ignore cases where data is incomplete/very little to analyse\n",
    "\t\tif len(newItem) <= 2:\n",
    "\t\t\tcontinue\n",
    "\n",
    "\t\telse:\n",
    "\t\t\tdata[i] = newItem\n",
    "\t\t\tipList.append(newItem[\"client_ip\"])\n",
    "\t\t# increment item number within the data\n",
    "\t\ti += 1\n",
    "\n",
    "if j > 0:\n",
    "\tprint \"Could not store {0} lines due to invalid format\".format(j)\n"
   ]
  },
  {
   "cell_type": "markdown",
   "metadata": {},
   "source": [
    "Write the data extracted from the json file into a csv file"
   ]
  },
  {
   "cell_type": "code",
   "execution_count": 4,
   "metadata": {},
   "outputs": [
    {
     "name": "stdout",
     "output_type": "stream",
     "text": [
      "Data written to file.\n"
     ]
    }
   ],
   "source": [
    "fieldNames = ['hour_of_the_day', 'day_of_the_week', 'client_user', 'client_host', 'client_ip', 'client_program', 'CONNECT_DATA_INSTANCE_NAME', 'service_name', 'oracle_sid', 'hostname']\n",
    "\n",
    "with open('../dataset/preprocessed_first_50000.csv', 'w') as csvFile:\n",
    "\twriter = csv.DictWriter(csvFile, fieldnames=fieldNames)\n",
    "\twriter.writeheader()\n",
    "\t\n",
    "\tfor item in data:\n",
    "\t\twriter.writerow(data[item])\n",
    "print\"Data written to file.\""
   ]
  },
  {
   "cell_type": "markdown",
   "metadata": {},
   "source": [
    "Read in the data and store it in a dataframe"
   ]
  },
  {
   "cell_type": "code",
   "execution_count": 5,
   "metadata": {},
   "outputs": [],
   "source": [
    "data = pd.read_csv('../dataset/preprocessed_first_50000.csv').fillna('0')\n",
    "data = data.to_dict(orient='records')"
   ]
  },
  {
   "cell_type": "markdown",
   "metadata": {},
   "source": [
    "DictVectorizer allows us to transform categorical data into numerical format"
   ]
  },
  {
   "cell_type": "code",
   "execution_count": 6,
   "metadata": {
    "collapsed": true
   },
   "outputs": [],
   "source": [
    "vec = DictVectorizer()\n",
    "X = np.array(vec.fit_transform(data).toarray())"
   ]
  },
  {
   "cell_type": "markdown",
   "metadata": {},
   "source": [
    "Robust Scaling works better for large sparse matrices (?)"
   ]
  },
  {
   "cell_type": "code",
   "execution_count": 7,
   "metadata": {},
   "outputs": [
    {
     "name": "stdout",
     "output_type": "stream",
     "text": [
      "\n",
      "Dimensions of feature matrix:  (50000, 588)\n"
     ]
    }
   ],
   "source": [
    "X = preprocessing.robust_scale(X)\n",
    "print \"\\nDimensions of feature matrix: \", X.shape\n",
    "np.savetxt('../dataset/matX.txt', X)"
   ]
  },
  {
   "cell_type": "markdown",
   "metadata": {},
   "source": [
    "TruncatedSVD works better than PCA for our use-case"
   ]
  },
  {
   "cell_type": "code",
   "execution_count": 8,
   "metadata": {
    "collapsed": true
   },
   "outputs": [],
   "source": [
    "svd = TruncatedSVD(n_components=2)\n",
    "X_svd = svd.fit_transform(X)"
   ]
  },
  {
   "cell_type": "code",
   "execution_count": 15,
   "metadata": {
    "collapsed": true
   },
   "outputs": [],
   "source": [
    "svd_3 = TruncatedSVD(n_components=3)\n",
    "X_svd_3 = svd_3.fit_transform(X)"
   ]
  },
  {
   "cell_type": "markdown",
   "metadata": {},
   "source": [
    "Outcome of PCA similar to SVD, just to verify"
   ]
  },
  {
   "cell_type": "code",
   "execution_count": 9,
   "metadata": {
    "collapsed": true
   },
   "outputs": [],
   "source": [
    "pca = PCA(n_components=2)\n",
    "pca.fit(X)\n",
    "X_pca = pca.transform(X)"
   ]
  },
  {
   "cell_type": "code",
   "execution_count": 16,
   "metadata": {
    "collapsed": true
   },
   "outputs": [],
   "source": [
    "pca_3 = PCA(n_components=3)\n",
    "pca_3.fit(X)\n",
    "X_pca_3 = pca.transform(X)"
   ]
  },
  {
   "cell_type": "markdown",
   "metadata": {},
   "source": [
    "Visualisation of the data"
   ]
  },
  {
   "cell_type": "code",
   "execution_count": 10,
   "metadata": {},
   "outputs": [
    {
     "data": {
      "text/plain": [
       "<matplotlib.collections.PathCollection at 0x1094b5150>"
      ]
     },
     "execution_count": 10,
     "metadata": {},
     "output_type": "execute_result"
    },
    {
     "data": {
      "image/png": "[encoded data removed]",
      "text/plain": [
       "<matplotlib.figure.Figure at 0x10b6ea950>"
      ]
     },
     "metadata": {},
     "output_type": "display_data"
    }
   ],
   "source": [
    "plt.scatter(X_pca[:, 0], X[:, 1])"
   ]
  },
  {
   "cell_type": "code",
   "execution_count": 11,
   "metadata": {},
   "outputs": [
    {
     "data": {
      "text/plain": [
       "<matplotlib.collections.PathCollection at 0x10a5ff810>"
      ]
     },
     "execution_count": 11,
     "metadata": {},
     "output_type": "execute_result"
    },
    {
     "data": {
      "image/png": "[encoded data removed]",
      "text/plain": [
       "<matplotlib.figure.Figure at 0x10b0a9dd0>"
      ]
     },
     "metadata": {},
     "output_type": "display_data"
    }
   ],
   "source": [
    "plt.scatter(X_svd[:, 0], X[:, 1])"
   ]
  },
  {
   "cell_type": "markdown",
   "metadata": {},
   "source": [
    "The following code attempts to perform K-Means Clustering on the data."
   ]
  },
  {
   "cell_type": "code",
   "execution_count": 12,
   "metadata": {
    "scrolled": true
   },
   "outputs": [
    {
     "data": {
      "text/plain": [
       "<matplotlib.collections.PathCollection at 0x10b446310>"
      ]
     },
     "execution_count": 12,
     "metadata": {},
     "output_type": "execute_result"
    },
    {
     "data": {
      "image/png": "[encoded data removed]",
      "text/plain": [
       "<matplotlib.figure.Figure at 0x10a930d10>"
      ]
     },
     "metadata": {},
     "output_type": "display_data"
    }
   ],
   "source": [
    "from sklearn import cluster\n",
    "\n",
    "k_means = cluster.KMeans(15)\n",
    "k_means.fit(X_svd)\n",
    "plt.scatter(X[:,0],X[:,1],c=k_means.labels_)"
   ]
  },
  {
   "cell_type": "code",
   "execution_count": 18,
   "metadata": {},
   "outputs": [
    {
     "data": {
      "text/plain": [
       "<mpl_toolkits.mplot3d.art3d.Path3DCollection at 0x10b7a97d0>"
      ]
     },
     "execution_count": 18,
     "metadata": {},
     "output_type": "execute_result"
    },
    {
     "data": {
      "image/png": "[encoded data removed]",
      "text/plain": [
       "<matplotlib.figure.Figure at 0x10b7fcf10>"
      ]
     },
     "metadata": {},
     "output_type": "display_data"
    }
   ],
   "source": [
    "import numpy as np\n",
    "\n",
    "import matplotlib.pyplot as plt\n",
    "from mpl_toolkits.mplot3d import Axes3D\n",
    "\n",
    "# Prepare sample data - normally distributed\n",
    "vmin, vmax = -2, 2\n",
    "\n",
    "# Create figure, add subplot with 3d projection\n",
    "fig = plt.figure(figsize=(5,5))\n",
    "ax = fig.add_subplot(111, projection='3d')\n",
    "ax.set_xlabel(\"X\")\n",
    "ax.set_ylabel(\"Y\")\n",
    "ax.set_zlabel(\"Z\")\n",
    "ax.set_xlim(vmin, vmax)\n",
    "ax.set_ylim(vmin, vmax)\n",
    "ax.set_zlim(vmin, vmax)\n",
    "\n",
    "# Plot the data cloud\n",
    "ax.scatter(X_svd_3[:, 0], X_svd_3[:, 1], X_svd_3[:, 2], s=.1, alpha=.05, color='k')\n"
   ]
  },
  {
   "cell_type": "markdown",
   "metadata": {},
   "source": [
    "Let us now fit a KNN based model to our data"
   ]
  },
  {
   "cell_type": "code",
   "execution_count": null,
   "metadata": {
    "collapsed": true
   },
   "outputs": [],
   "source": [
    "from sklearn import svm\n",
    "\n",
    "xx, yy = np.meshgrid(np.linspace(-5, 5, 500), np.linspace(-5, 5, 500))\n",
    "clf = svm.OneClassSVM(nu=0.1, kernel=\"rbf\", gamma=0.1)\n"
   ]
  }
 ],
 "metadata": {
  "kernelspec": {
   "display_name": "Python 2",
   "language": "python",
   "name": "python2"
  },
  "language_info": {
   "codemirror_mode": {
    "name": "ipython",
    "version": 2
   },
   "file_extension": ".py",
   "mimetype": "text/x-python",
   "name": "python",
   "nbconvert_exporter": "python",
   "pygments_lexer": "ipython2",
   "version": "2.7.10"
  }
 },
 "nbformat": 4,
 "nbformat_minor": 2
}
