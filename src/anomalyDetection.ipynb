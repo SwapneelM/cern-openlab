{
 "cells": [
  {
   "cell_type": "markdown",
   "metadata": {
    "collapsed": true
   },
   "source": [
    "# Anomaly Detection Models"
   ]
  },
  {
   "cell_type": "markdown",
   "metadata": {},
   "source": [
    "This function extracts the features specified in the array from the json file provided to it and stores it in a csv file at the location provided to it. \n",
    "\n",
    "Edit the file locations (source json; destination csv) and run the code to generate the requisite datasets."
   ]
  },
  {
   "cell_type": "code",
   "execution_count": 17,
   "metadata": {
    "scrolled": true
   },
   "outputs": [
    {
     "name": "stdout",
     "output_type": "stream",
     "text": [
      "Data written to file.\n"
     ]
    }
   ],
   "source": [
    "import json, csv, sys, datetime\n",
    "\n",
    "with open('../dataset/sample_first_50000.json', 'r') as file:\n",
    "\ti = 0\n",
    "\tj = 0\n",
    "\t# TODO: change list-based stuff to dict\n",
    "\tdata = {}\n",
    "\tipList = []\n",
    "\t# iterate over each logged line\n",
    "\tfor line in file:\n",
    "\t\tnewItem = {}\n",
    "\t\ttry:\n",
    "\t\t\tjsonData = json.loads(line)\n",
    "\t\texcept:\n",
    "\t\t\tprint \"\\nLine {0} is not in JSON format\".format(i)\n",
    "\t\t\ti += 1\n",
    "\t\t\tj += 1\n",
    "\t\t\tcontinue\n",
    "\n",
    "\t\tif 'data' in jsonData:\n",
    "\t\t\ttimestamp = str(jsonData['data']['event_timestamp'])\n",
    "\t\t\thour_of_the_day = (float(timestamp[11:13]) + float(timestamp[14:16])/60 + float(timestamp[17:19])/3600)\n",
    "\t\t\t# 0 - Monday; 6 - Sunday\n",
    "\t\t\tday_of_the_week = datetime.datetime(int(timestamp[:4]), \\\n",
    "\t\t\t\tint(timestamp[5:7]), int(timestamp[8:10]), int(timestamp[11:13]), \\\n",
    "\t\t\t\tint(timestamp[14:16]), int(timestamp[17:19])).weekday()\n",
    "\t\t\tnewItem[\"hour_of_the_day\"] = hour_of_the_day\n",
    "\t\t\tnewItem[\"day_of_the_week\"] = day_of_the_week\n",
    "\t\t\n",
    "\t\t\tfeaturesFromData = [\"client_user\", \"client_host\", \"client_ip\", \"client_program\", \"CONNECT_DATA_INSTANCE_NAME\", \"service_name\"]\n",
    "\t\t\tfor feature in featuresFromData:\n",
    "\t\t\t\tif feature in jsonData['data']:\n",
    "\t\t\t\t\tnewItem[feature] = str(jsonData['data'][feature])\n",
    "\t\t\t\telse:\n",
    "\t\t\t\t\tnewItem[feature] = \"\"\n",
    "\n",
    "\t\tif 'metadata' in jsonData:\n",
    "\t\t\tfeaturesFromMetadata = [\"oracle_sid\", \"hostname\"]\n",
    "\t\t\tfor feature in featuresFromMetadata:\n",
    "\t\t\t\tif feature in jsonData['metadata']:\n",
    "\t\t\t\t\tnewItem[feature] = str(jsonData['metadata'][feature])\n",
    "\t\t\t\telse:\n",
    "\t\t\t\t\tnewItem[feature] = \"\"\n",
    "\n",
    "\t\t# ignore cases where data is incomplete/very little to analyse\n",
    "\t\tif len(newItem) <= 2:\n",
    "\t\t\tcontinue\n",
    "\n",
    "\t\telse:\n",
    "\t\t\tdata[i] = newItem\n",
    "\t\t\tipList.append(newItem[\"client_ip\"])\n",
    "\t\t# increment item number within the data\n",
    "\t\ti += 1\n",
    "\n",
    "if j > 0:\n",
    "\tprint \"Could not store {0} lines due to invalid format\".format(j)\n",
    "\n",
    "fieldNames = ['hour_of_the_day', 'day_of_the_week', 'client_user', 'client_host', 'client_ip', 'client_program', 'CONNECT_DATA_INSTANCE_NAME', 'service_name', 'oracle_sid', 'hostname']\n",
    "\n",
    "with open('../dataset/preprocessed_first_50000.csv', 'w') as csvFile:\n",
    "\twriter = csv.DictWriter(csvFile, fieldnames=fieldNames)\n",
    "\twriter.writeheader()\n",
    "\t\n",
    "\tfor item in data:\n",
    "\t\twriter.writerow(data[item])\n",
    "print\"Data written to file.\""
   ]
  },
  {
   "cell_type": "code",
   "execution_count": 18,
   "metadata": {},
   "outputs": [
    {
     "name": "stdout",
     "output_type": "stream",
     "text": [
      "\n",
      "Dimensions of feature matrix:  (50000, 588)\n",
      "\n",
      "Modified dimensions of feature matrix:  (50000, 2)\n"
     ]
    }
   ],
   "source": [
    "import pandas as pd\n",
    "import numpy as np\n",
    "from sklearn.decomposition import TruncatedSVD, PCA\n",
    "from sklearn import preprocessing\n",
    "from sklearn.feature_extraction import DictVectorizer\n",
    "\n",
    "#Read in the data and store it in a dataframe\n",
    "data = pd.read_csv('../dataset/preprocessed_first_50000.csv').fillna('0')\n",
    "data = data.to_dict(orient='records')\n",
    "\n",
    "#DictVectorizer allows us to transform categorical data into numerical format\n",
    "vec = DictVectorizer()\n",
    "X = np.array(vec.fit_transform(data).toarray())\n",
    "\n",
    "#Robust Scaling works better for large sparse matrices (?)\n",
    "X = preprocessing.robust_scale(X)\n",
    "print \"\\nDimensions of feature matrix: \", X.shape\n",
    "np.savetxt('../dataset/matX.txt', X)\n",
    "\n",
    "#TruncatedSVD works better than PCA for our use-case\n",
    "svd = TruncatedSVD(n_components=2)\n",
    "X_svd = svd.fit_transform(X)\n",
    "\n",
    "#Outcome of PCA similar to SVD, just to verify\n",
    "pca = PCA(n_components=2)\n",
    "pca.fit(X)\n",
    "X_pca = pca.transform(X)\n",
    "\n"
   ]
  },
  {
   "cell_type": "markdown",
   "metadata": {},
   "source": [
    "Visualisation of the data"
   ]
  },
  {
   "cell_type": "code",
   "execution_count": 19,
   "metadata": {},
   "outputs": [
    {
     "data": {
      "text/plain": [
       "<matplotlib.collections.PathCollection at 0x10ff95310>"
      ]
     },
     "execution_count": 19,
     "metadata": {},
     "output_type": "execute_result"
    },
    {
     "data": {
      "image/png": "[encoded data removed]",
      "text/plain": [
       "<matplotlib.figure.Figure at 0x111e97f50>"
      ]
     },
     "metadata": {},
     "output_type": "display_data"
    }
   ],
   "source": [
    "%matplotlib inline\n",
    "import matplotlib.pyplot as plt\n",
    "\n",
    "plt.scatter(X_pca[:, 0], X[:, 1])\n"
   ]
  },
  {
   "cell_type": "code",
   "execution_count": 20,
   "metadata": {},
   "outputs": [
    {
     "data": {
      "text/plain": [
       "<matplotlib.collections.PathCollection at 0x11201e550>"
      ]
     },
     "execution_count": 20,
     "metadata": {},
     "output_type": "execute_result"
    },
    {
     "data": {
      "image/png": "[encoded data removed]",
      "text/plain": [
       "<matplotlib.figure.Figure at 0x119a4e650>"
      ]
     },
     "metadata": {},
     "output_type": "display_data"
    }
   ],
   "source": [
    "plt.scatter(X_svd[:, 0], X[:, 1])"
   ]
  },
  {
   "cell_type": "markdown",
   "metadata": {},
   "source": [
    "The following code attempts to perform K-Means Clustering on the data."
   ]
  },
  {
   "cell_type": "code",
   "execution_count": 25,
   "metadata": {},
   "outputs": [
    {
     "data": {
      "text/plain": [
       "<matplotlib.collections.PathCollection at 0x1195aaad0>"
      ]
     },
     "execution_count": 25,
     "metadata": {},
     "output_type": "execute_result"
    },
    {
     "data": {
      "image/png": "[encoded data removed]",
      "text/plain": [
       "<matplotlib.figure.Figure at 0x11956bb10>"
      ]
     },
     "metadata": {},
     "output_type": "display_data"
    }
   ],
   "source": [
    "from sklearn import cluster\n",
    "\n",
    "k_means = cluster.KMeans(15)\n",
    "k_means.fit(X_svd)\n",
    "plt.scatter(X[:,0],X[:,1],c=k_means.labels_)"
   ]
  },
  {
   "cell_type": "markdown",
   "metadata": {},
   "source": [
    "Let us now fit a KNN based model to our data"
   ]
  },
  {
   "cell_type": "code",
   "execution_count": null,
   "metadata": {
    "collapsed": true
   },
   "outputs": [],
   "source": [
    "from sklearn import svm\n",
    "\n",
    "xx, yy = np.meshgrid(np.linspace(-5, 5, 500), np.linspace(-5, 5, 500))\n",
    "clf = svm.OneClassSVM(nu=0.1, kernel=\"rbf\", gamma=0.1)\n"
   ]
  }
 ],
 "metadata": {
  "kernelspec": {
   "display_name": "Python 2",
   "language": "python",
   "name": "python2"
  },
  "language_info": {
   "codemirror_mode": {
    "name": "ipython",
    "version": 2
   },
   "file_extension": ".py",
   "mimetype": "text/x-python",
   "name": "python",
   "nbconvert_exporter": "python",
   "pygments_lexer": "ipython2",
   "version": "2.7.10"
  }
 },
 "nbformat": 4,
 "nbformat_minor": 2
}
