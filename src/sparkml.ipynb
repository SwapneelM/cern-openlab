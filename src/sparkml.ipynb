import matplotlib 
import os, sys
import json, csv
from sklearn.feature_extraction import DictVectorizer

from numpy import genfromtxt

data = genfromtxt('')