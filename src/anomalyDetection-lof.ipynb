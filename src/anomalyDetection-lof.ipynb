{
 "cells": [
  {
   "cell_type": "code",
   "execution_count": 5,
   "metadata": {},
   "outputs": [
    {
     "ename": "ImportError",
     "evalue": "cannot import name LocalOutlierFactor",
     "output_type": "error",
     "traceback": [
      "\u001b[0;31m---------------------------------------------------------------------------\u001b[0m",
      "\u001b[0;31mImportError\u001b[0m                               Traceback (most recent call last)",
      "\u001b[0;32m<ipython-input-5-4a2371236bcc>\u001b[0m in \u001b[0;36m<module>\u001b[0;34m()\u001b[0m\n\u001b[1;32m      3\u001b[0m \u001b[0;32mimport\u001b[0m \u001b[0mnumpy\u001b[0m \u001b[0;32mas\u001b[0m \u001b[0mnp\u001b[0m\u001b[0;34m\u001b[0m\u001b[0m\n\u001b[1;32m      4\u001b[0m \u001b[0;34m\u001b[0m\u001b[0m\n\u001b[0;32m----> 5\u001b[0;31m \u001b[0;32mfrom\u001b[0m \u001b[0msklearn\u001b[0m\u001b[0;34m.\u001b[0m\u001b[0mneighbors\u001b[0m \u001b[0;32mimport\u001b[0m \u001b[0mLocalOutlierFactor\u001b[0m\u001b[0;34m\u001b[0m\u001b[0m\n\u001b[0m\u001b[1;32m      6\u001b[0m \u001b[0;34m\u001b[0m\u001b[0m\n\u001b[1;32m      7\u001b[0m \u001b[0;32mfrom\u001b[0m \u001b[0mmpl_toolkits\u001b[0m\u001b[0;34m.\u001b[0m\u001b[0mmplot3d\u001b[0m \u001b[0;32mimport\u001b[0m \u001b[0mAxes3D\u001b[0m\u001b[0;34m\u001b[0m\u001b[0m\n",
      "\u001b[0;31mImportError\u001b[0m: cannot import name LocalOutlierFactor"
     ]
    }
   ],
   "source": [
    "%matplotlib inline\n",
    "import matplotlib.pyplot as plt\n",
    "import numpy as np\n",
    "\n",
    "from sklearn.neighbors import LocalOutlierFactor\n",
    "\n",
    "from mpl_toolkits.mplot3d import Axes3D\n",
    "from matplotlib.font_manager import FontProperties"
   ]
  },
  {
   "cell_type": "code",
   "execution_count": null,
   "metadata": {
    "collapsed": true
   },
   "outputs": [],
   "source": [
    "X_svd = np.loadtxt('../dataset/X_svd.txt', delimiter=',')\n",
    "X_svd_3 = np.loadtxt('../dataset/X_svd_3.txt', delimiter=',')"
   ]
  },
  {
   "cell_type": "code",
   "execution_count": null,
   "metadata": {},
   "outputs": [],
   "source": [
    "for i in xrange(3):\n",
    "    print X_svd_3[i, 0], X_svd_3[i, 1], X_svd_3[i, 2]"
   ]
  },
  {
   "cell_type": "code",
   "execution_count": null,
   "metadata": {
    "collapsed": true
   },
   "outputs": [],
   "source": [
    "# fit the model\n",
    "clf = LocalOutlierFactor(n_neighbors=20)\n",
    "y_pred = clf.fit_predict(X_svd_3)\n"
   ]
  },
  {
   "cell_type": "code",
   "execution_count": null,
   "metadata": {
    "collapsed": true
   },
   "outputs": [],
   "source": [
    "X_outliers = np.array(np.zeros(shape=(len(X_svd_3),3)))\n",
    "for i in xrange(len(y_pred_test)):\n",
    "    if y_pred[i] == -1:\n",
    "        temp = []\n",
    "        for j in xrange(3):\n",
    "            temp.append(X_svd_3[i, j])\n",
    "        X_outliers[i] = temp"
   ]
  },
  {
   "cell_type": "code",
   "execution_count": null,
   "metadata": {},
   "outputs": [],
   "source": [
    "fig = plt.figure(figsize=(18, 18))\n",
    "ax = fig.add_subplot(111, projection='3d')\n",
    "\n",
    "# plot the line, the samples, and the nearest vectors to the plane\n",
    "#xx, yy = np.meshgrid(np.linspace(-5, 5, 50), np.linspace(-5, 5, 50))\n",
    "#Z = clf.decision_function(np.c_[xx.ravel(), yy.ravel()])\n",
    "#Z = Z.reshape(xx.shape)\n",
    "\n",
    "plt.title(\"LocalOutlierFactor\")\n",
    "#plt.contourf(xx, yy, Z, cmap=plt.cm.Blues_r)\n",
    "\n",
    "#b1 = ax.scatter(X_train[:, 0], X_train[:, 1], X_train[:, 2], alpha=0.1, c='blue', edgecolor='w', s=15)\n",
    "b2 = ax.scatter(X_svd_3[:, 0], X_svd_3[:, 1], X_svd_3[:, 2], alpha=0.3, c='green', edgecolor='w', s=35)\n",
    "c = ax.scatter(X_outliers[:, 0], X_outliers[:, 1], X_outliers[:, 2], alpha=0.5, c='red', edgecolor='w', s=55)\n",
    "plt.axis('tight')\n",
    "#plt.legend([b1, b2, c],[\"training observations\", \"new regular observations\", \"new abnormal observations\"], loc=\"upper left\")\n",
    "plt.show()"
   ]
  },
  {
   "cell_type": "code",
   "execution_count": null,
   "metadata": {
    "collapsed": true
   },
   "outputs": [],
   "source": []
  }
 ],
 "metadata": {
  "kernelspec": {
   "display_name": "Python 2",
   "language": "python",
   "name": "python2"
  },
  "language_info": {
   "codemirror_mode": {
    "name": "ipython",
    "version": 2
   },
   "file_extension": ".py",
   "mimetype": "text/x-python",
   "name": "python",
   "nbconvert_exporter": "python",
   "pygments_lexer": "ipython2",
   "version": "2.7.13"
  }
 },
 "nbformat": 4,
 "nbformat_minor": 2
}
